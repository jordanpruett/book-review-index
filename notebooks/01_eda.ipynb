{
 "cells": [
  {
   "cell_type": "markdown",
   "metadata": {},
   "source": [
    "This notebook begins by generating some simple summary statistics for the dataset. We consider the distribution of reviews over the whole set, as well as the most frequently reviewed authors."
   ]
  },
  {
   "cell_type": "code",
   "execution_count": 1,
   "metadata": {},
   "outputs": [],
   "source": [
    "import pandas as pd\n",
    "import numpy as np\n",
    "\n",
    "import matplotlib.pyplot as plt\n",
    "import seaborn as sns"
   ]
  },
  {
   "cell_type": "markdown",
   "metadata": {},
   "source": [
    "Let's begin with some simple descriptive statistics of the data. First, let's load in the book review count data and get a sense of how many reviews were published by each of our respective magazines."
   ]
  },
  {
   "cell_type": "code",
   "execution_count": 2,
   "metadata": {},
   "outputs": [
    {
     "data": {
      "text/html": [
       "<div>\n",
       "<style scoped>\n",
       "    .dataframe tbody tr th:only-of-type {\n",
       "        vertical-align: middle;\n",
       "    }\n",
       "\n",
       "    .dataframe tbody tr th {\n",
       "        vertical-align: top;\n",
       "    }\n",
       "\n",
       "    .dataframe thead th {\n",
       "        text-align: right;\n",
       "    }\n",
       "</style>\n",
       "<table border=\"1\" class=\"dataframe\">\n",
       "  <thead>\n",
       "    <tr style=\"text-align: right;\">\n",
       "      <th></th>\n",
       "      <th>AB Bookman's Weekly</th>\n",
       "      <th>Publishers Weekly</th>\n",
       "      <th>Esquire</th>\n",
       "      <th>Booklist</th>\n",
       "      <th>Journal of Aesthetics and Art Criticism</th>\n",
       "      <th>International Philosophical Quarterly</th>\n",
       "      <th>Journal of Marketing</th>\n",
       "      <th>Harvard Law Review</th>\n",
       "      <th>Journal of Business Education</th>\n",
       "      <th>Journal of Home Economics</th>\n",
       "      <th>...</th>\n",
       "      <th>Black Warrior Review</th>\n",
       "      <th>Computers and the Humanities</th>\n",
       "      <th>American Arts</th>\n",
       "      <th>Essays on Canadian Writing`</th>\n",
       "      <th>Performing Arts Review</th>\n",
       "      <th>Journal of Arts Management, Law, and Society</th>\n",
       "      <th>Studio International, Review</th>\n",
       "      <th>Journal of Black Studies</th>\n",
       "      <th>Lone Star Review</th>\n",
       "      <th>Aspen Journal of the Arts</th>\n",
       "    </tr>\n",
       "  </thead>\n",
       "  <tbody>\n",
       "    <tr>\n",
       "      <th>Classics In The Kitchen || AABERG, Jean</th>\n",
       "      <td>2</td>\n",
       "      <td>1</td>\n",
       "      <td>0</td>\n",
       "      <td>0</td>\n",
       "      <td>0</td>\n",
       "      <td>0</td>\n",
       "      <td>0</td>\n",
       "      <td>0</td>\n",
       "      <td>0</td>\n",
       "      <td>0</td>\n",
       "      <td>...</td>\n",
       "      <td>0</td>\n",
       "      <td>0</td>\n",
       "      <td>0</td>\n",
       "      <td>0</td>\n",
       "      <td>0</td>\n",
       "      <td>0</td>\n",
       "      <td>0</td>\n",
       "      <td>0</td>\n",
       "      <td>0</td>\n",
       "      <td>0</td>\n",
       "    </tr>\n",
       "    <tr>\n",
       "      <th>The Complete Book Of Knitting || ABBEY, Barbara</th>\n",
       "      <td>1</td>\n",
       "      <td>0</td>\n",
       "      <td>0</td>\n",
       "      <td>1</td>\n",
       "      <td>0</td>\n",
       "      <td>0</td>\n",
       "      <td>0</td>\n",
       "      <td>0</td>\n",
       "      <td>0</td>\n",
       "      <td>0</td>\n",
       "      <td>...</td>\n",
       "      <td>0</td>\n",
       "      <td>0</td>\n",
       "      <td>0</td>\n",
       "      <td>0</td>\n",
       "      <td>0</td>\n",
       "      <td>0</td>\n",
       "      <td>0</td>\n",
       "      <td>0</td>\n",
       "      <td>0</td>\n",
       "      <td>0</td>\n",
       "    </tr>\n",
       "    <tr>\n",
       "      <th>A Locomotive Engineer's Album || ABDILL, George B</th>\n",
       "      <td>1</td>\n",
       "      <td>0</td>\n",
       "      <td>0</td>\n",
       "      <td>0</td>\n",
       "      <td>0</td>\n",
       "      <td>0</td>\n",
       "      <td>0</td>\n",
       "      <td>0</td>\n",
       "      <td>0</td>\n",
       "      <td>0</td>\n",
       "      <td>...</td>\n",
       "      <td>0</td>\n",
       "      <td>0</td>\n",
       "      <td>0</td>\n",
       "      <td>0</td>\n",
       "      <td>0</td>\n",
       "      <td>0</td>\n",
       "      <td>0</td>\n",
       "      <td>0</td>\n",
       "      <td>0</td>\n",
       "      <td>0</td>\n",
       "    </tr>\n",
       "    <tr>\n",
       "      <th>House Of India Cookbook || ABDULLAH, Syed</th>\n",
       "      <td>1</td>\n",
       "      <td>0</td>\n",
       "      <td>0</td>\n",
       "      <td>1</td>\n",
       "      <td>0</td>\n",
       "      <td>0</td>\n",
       "      <td>0</td>\n",
       "      <td>0</td>\n",
       "      <td>0</td>\n",
       "      <td>0</td>\n",
       "      <td>...</td>\n",
       "      <td>0</td>\n",
       "      <td>0</td>\n",
       "      <td>0</td>\n",
       "      <td>0</td>\n",
       "      <td>0</td>\n",
       "      <td>0</td>\n",
       "      <td>0</td>\n",
       "      <td>0</td>\n",
       "      <td>0</td>\n",
       "      <td>0</td>\n",
       "    </tr>\n",
       "    <tr>\n",
       "      <th>The Rockefeller Billions: World's Most Stupendous Fortune || ABELS, Jules</th>\n",
       "      <td>1</td>\n",
       "      <td>0</td>\n",
       "      <td>0</td>\n",
       "      <td>1</td>\n",
       "      <td>0</td>\n",
       "      <td>0</td>\n",
       "      <td>0</td>\n",
       "      <td>0</td>\n",
       "      <td>0</td>\n",
       "      <td>0</td>\n",
       "      <td>...</td>\n",
       "      <td>0</td>\n",
       "      <td>0</td>\n",
       "      <td>0</td>\n",
       "      <td>0</td>\n",
       "      <td>0</td>\n",
       "      <td>0</td>\n",
       "      <td>0</td>\n",
       "      <td>0</td>\n",
       "      <td>0</td>\n",
       "      <td>0</td>\n",
       "    </tr>\n",
       "  </tbody>\n",
       "</table>\n",
       "<p>5 rows × 485 columns</p>\n",
       "</div>"
      ],
      "text/plain": [
       "                                                    AB Bookman's Weekly  \\\n",
       "Classics In The Kitchen || AABERG, Jean                               2   \n",
       "The Complete Book Of Knitting || ABBEY, Barbara                       1   \n",
       "A Locomotive Engineer's Album || ABDILL, George B                     1   \n",
       "House Of India Cookbook || ABDULLAH, Syed                             1   \n",
       "The Rockefeller Billions: World's Most Stupendo...                    1   \n",
       "\n",
       "                                                    Publishers Weekly  \\\n",
       "Classics In The Kitchen || AABERG, Jean                             1   \n",
       "The Complete Book Of Knitting || ABBEY, Barbara                     0   \n",
       "A Locomotive Engineer's Album || ABDILL, George B                   0   \n",
       "House Of India Cookbook || ABDULLAH, Syed                           0   \n",
       "The Rockefeller Billions: World's Most Stupendo...                  0   \n",
       "\n",
       "                                                    Esquire  Booklist  \\\n",
       "Classics In The Kitchen || AABERG, Jean                   0         0   \n",
       "The Complete Book Of Knitting || ABBEY, Barbara           0         1   \n",
       "A Locomotive Engineer's Album || ABDILL, George B         0         0   \n",
       "House Of India Cookbook || ABDULLAH, Syed                 0         1   \n",
       "The Rockefeller Billions: World's Most Stupendo...        0         1   \n",
       "\n",
       "                                                    Journal of Aesthetics and Art Criticism  \\\n",
       "Classics In The Kitchen || AABERG, Jean                                                   0   \n",
       "The Complete Book Of Knitting || ABBEY, Barbara                                           0   \n",
       "A Locomotive Engineer's Album || ABDILL, George B                                         0   \n",
       "House Of India Cookbook || ABDULLAH, Syed                                                 0   \n",
       "The Rockefeller Billions: World's Most Stupendo...                                        0   \n",
       "\n",
       "                                                    International Philosophical Quarterly  \\\n",
       "Classics In The Kitchen || AABERG, Jean                                                 0   \n",
       "The Complete Book Of Knitting || ABBEY, Barbara                                         0   \n",
       "A Locomotive Engineer's Album || ABDILL, George B                                       0   \n",
       "House Of India Cookbook || ABDULLAH, Syed                                               0   \n",
       "The Rockefeller Billions: World's Most Stupendo...                                      0   \n",
       "\n",
       "                                                    Journal of Marketing  \\\n",
       "Classics In The Kitchen || AABERG, Jean                                0   \n",
       "The Complete Book Of Knitting || ABBEY, Barbara                        0   \n",
       "A Locomotive Engineer's Album || ABDILL, George B                      0   \n",
       "House Of India Cookbook || ABDULLAH, Syed                              0   \n",
       "The Rockefeller Billions: World's Most Stupendo...                     0   \n",
       "\n",
       "                                                    Harvard Law Review  \\\n",
       "Classics In The Kitchen || AABERG, Jean                              0   \n",
       "The Complete Book Of Knitting || ABBEY, Barbara                      0   \n",
       "A Locomotive Engineer's Album || ABDILL, George B                    0   \n",
       "House Of India Cookbook || ABDULLAH, Syed                            0   \n",
       "The Rockefeller Billions: World's Most Stupendo...                   0   \n",
       "\n",
       "                                                    Journal of Business Education  \\\n",
       "Classics In The Kitchen || AABERG, Jean                                         0   \n",
       "The Complete Book Of Knitting || ABBEY, Barbara                                 0   \n",
       "A Locomotive Engineer's Album || ABDILL, George B                               0   \n",
       "House Of India Cookbook || ABDULLAH, Syed                                       0   \n",
       "The Rockefeller Billions: World's Most Stupendo...                              0   \n",
       "\n",
       "                                                    Journal of Home Economics  \\\n",
       "Classics In The Kitchen || AABERG, Jean                                     0   \n",
       "The Complete Book Of Knitting || ABBEY, Barbara                             0   \n",
       "A Locomotive Engineer's Album || ABDILL, George B                           0   \n",
       "House Of India Cookbook || ABDULLAH, Syed                                   0   \n",
       "The Rockefeller Billions: World's Most Stupendo...                          0   \n",
       "\n",
       "                                                    ...  Black Warrior Review  \\\n",
       "Classics In The Kitchen || AABERG, Jean             ...                     0   \n",
       "The Complete Book Of Knitting || ABBEY, Barbara     ...                     0   \n",
       "A Locomotive Engineer's Album || ABDILL, George B   ...                     0   \n",
       "House Of India Cookbook || ABDULLAH, Syed           ...                     0   \n",
       "The Rockefeller Billions: World's Most Stupendo...  ...                     0   \n",
       "\n",
       "                                                    Computers and the Humanities  \\\n",
       "Classics In The Kitchen || AABERG, Jean                                        0   \n",
       "The Complete Book Of Knitting || ABBEY, Barbara                                0   \n",
       "A Locomotive Engineer's Album || ABDILL, George B                              0   \n",
       "House Of India Cookbook || ABDULLAH, Syed                                      0   \n",
       "The Rockefeller Billions: World's Most Stupendo...                             0   \n",
       "\n",
       "                                                    American Arts  \\\n",
       "Classics In The Kitchen || AABERG, Jean                         0   \n",
       "The Complete Book Of Knitting || ABBEY, Barbara                 0   \n",
       "A Locomotive Engineer's Album || ABDILL, George B               0   \n",
       "House Of India Cookbook || ABDULLAH, Syed                       0   \n",
       "The Rockefeller Billions: World's Most Stupendo...              0   \n",
       "\n",
       "                                                    Essays on Canadian Writing`  \\\n",
       "Classics In The Kitchen || AABERG, Jean                                       0   \n",
       "The Complete Book Of Knitting || ABBEY, Barbara                               0   \n",
       "A Locomotive Engineer's Album || ABDILL, George B                             0   \n",
       "House Of India Cookbook || ABDULLAH, Syed                                     0   \n",
       "The Rockefeller Billions: World's Most Stupendo...                            0   \n",
       "\n",
       "                                                    Performing Arts Review  \\\n",
       "Classics In The Kitchen || AABERG, Jean                                  0   \n",
       "The Complete Book Of Knitting || ABBEY, Barbara                          0   \n",
       "A Locomotive Engineer's Album || ABDILL, George B                        0   \n",
       "House Of India Cookbook || ABDULLAH, Syed                                0   \n",
       "The Rockefeller Billions: World's Most Stupendo...                       0   \n",
       "\n",
       "                                                    Journal of Arts Management, Law, and Society  \\\n",
       "Classics In The Kitchen || AABERG, Jean                                                        0   \n",
       "The Complete Book Of Knitting || ABBEY, Barbara                                                0   \n",
       "A Locomotive Engineer's Album || ABDILL, George B                                              0   \n",
       "House Of India Cookbook || ABDULLAH, Syed                                                      0   \n",
       "The Rockefeller Billions: World's Most Stupendo...                                             0   \n",
       "\n",
       "                                                    Studio International, Review  \\\n",
       "Classics In The Kitchen || AABERG, Jean                                        0   \n",
       "The Complete Book Of Knitting || ABBEY, Barbara                                0   \n",
       "A Locomotive Engineer's Album || ABDILL, George B                              0   \n",
       "House Of India Cookbook || ABDULLAH, Syed                                      0   \n",
       "The Rockefeller Billions: World's Most Stupendo...                             0   \n",
       "\n",
       "                                                    Journal of Black Studies  \\\n",
       "Classics In The Kitchen || AABERG, Jean                                    0   \n",
       "The Complete Book Of Knitting || ABBEY, Barbara                            0   \n",
       "A Locomotive Engineer's Album || ABDILL, George B                          0   \n",
       "House Of India Cookbook || ABDULLAH, Syed                                  0   \n",
       "The Rockefeller Billions: World's Most Stupendo...                         0   \n",
       "\n",
       "                                                    Lone Star Review  \\\n",
       "Classics In The Kitchen || AABERG, Jean                            0   \n",
       "The Complete Book Of Knitting || ABBEY, Barbara                    0   \n",
       "A Locomotive Engineer's Album || ABDILL, George B                  0   \n",
       "House Of India Cookbook || ABDULLAH, Syed                          0   \n",
       "The Rockefeller Billions: World's Most Stupendo...                 0   \n",
       "\n",
       "                                                    Aspen Journal of the Arts  \n",
       "Classics In The Kitchen || AABERG, Jean                                     0  \n",
       "The Complete Book Of Knitting || ABBEY, Barbara                             0  \n",
       "A Locomotive Engineer's Album || ABDILL, George B                           0  \n",
       "House Of India Cookbook || ABDULLAH, Syed                                   0  \n",
       "The Rockefeller Billions: World's Most Stupendo...                          0  \n",
       "\n",
       "[5 rows x 485 columns]"
      ]
     },
     "execution_count": 2,
     "metadata": {},
     "output_type": "execute_result"
    }
   ],
   "source": [
    "df = pd.read_csv('../data/processed/book_reviews.tsv', sep='\\t', index_col=0)\n",
    "df.head()"
   ]
  },
  {
   "cell_type": "markdown",
   "metadata": {},
   "source": [
    "We have almost 500 journals tracked by the data in this period, but most of them reviewed a comparatively small number of books. Let's sum up the column row and column totals to get a sense of the distribution."
   ]
  },
  {
   "cell_type": "code",
   "execution_count": 3,
   "metadata": {},
   "outputs": [],
   "source": [
    "journal_total = df.sum(axis=0)\n",
    "book_total = df.sum(axis=1)"
   ]
  },
  {
   "cell_type": "markdown",
   "metadata": {},
   "source": [
    "The distribution of reviews is highly uneven. The overwhelming majority of books were reviewed by only a handful of publications. In part, this is because the Book Review Index tracks highly-specialized publications targeted at very specific audiences, such as specific academic subfields.\n",
    "\n",
    "Here are some numbers and visualizations that give you a sense of how lopsided it is. Note that the histogram is log-scaled."
   ]
  },
  {
   "cell_type": "code",
   "execution_count": 4,
   "metadata": {},
   "outputs": [
    {
     "name": "stdout",
     "output_type": "stream",
     "text": [
      "Out of 326774 books, 151468 received only a single review.\n"
     ]
    }
   ],
   "source": [
    "only_one_review = len(book_total[book_total==1])\n",
    "print(f'Out of {len(df)} books, {only_one_review} received only a single review.')"
   ]
  },
  {
   "cell_type": "code",
   "execution_count": 5,
   "metadata": {},
   "outputs": [
    {
     "data": {
      "text/plain": [
       "count    326774.000000\n",
       "mean          2.962546\n",
       "std           3.360021\n",
       "min           1.000000\n",
       "25%           1.000000\n",
       "50%           2.000000\n",
       "75%           4.000000\n",
       "max          63.000000\n",
       "dtype: float64"
      ]
     },
     "execution_count": 5,
     "metadata": {},
     "output_type": "execute_result"
    }
   ],
   "source": [
    "book_total.describe()"
   ]
  },
  {
   "cell_type": "code",
   "execution_count": 6,
   "metadata": {},
   "outputs": [
    {
     "data": {
      "text/plain": [
       "2.0"
      ]
     },
     "execution_count": 6,
     "metadata": {},
     "output_type": "execute_result"
    }
   ],
   "source": [
    "book_total.median()"
   ]
  },
  {
   "cell_type": "code",
   "execution_count": 7,
   "metadata": {},
   "outputs": [
    {
     "data": {
      "image/png": "[encoded data removed]",
      "text/plain": [
       "<Figure size 432x288 with 1 Axes>"
      ]
     },
     "metadata": {
      "needs_background": "light"
     },
     "output_type": "display_data"
    }
   ],
   "source": [
    "review_count_hist = sns.histplot(book_total, log_scale=(False, True), bins=book_total.max())\n",
    "plt.show()"
   ]
  },
  {
   "cell_type": "markdown",
   "metadata": {},
   "source": [
    "It's actually kind of remarkable how clearly the resulting histogram follows a power law (the Y axis is on a log scale). \n",
    "\n",
    "Just for fun, let's look at which titles are hiding in the tail end of that distribution, with 50 or more reviews."
   ]
  },
  {
   "cell_type": "code",
   "execution_count": 8,
   "metadata": {},
   "outputs": [
    {
     "data": {
      "text/plain": [
       "The Fate Of The Earth || SCHELL, Jonathan                     63\n",
       "Robert Kennedy And His Times || SCHLESINGER, Arthur M, Jr.    59\n",
       "Sophie's Choice || STYRON, William                            58\n",
       "The White Hotel || THOMAS, D M                                58\n",
       "The Dean's December || BELLOW, Saul                           56\n",
       "Ernest Hemingway: A Life Story || BAKER, Carlos               54\n",
       "Humboldt's Gift || BELLOW, Saul                               53\n",
       "The Coup || UPDIKE, John                                      52\n",
       "George Orwell: A Life Am || CRICK, Bernard                    52\n",
       "Ragtime || DOCTOROW, EL                                       52\n",
       "dtype: int64"
      ]
     },
     "execution_count": 8,
     "metadata": {},
     "output_type": "execute_result"
    }
   ],
   "source": [
    "book_total.sort_values(ascending=False)[:10]"
   ]
  },
  {
   "cell_type": "markdown",
   "metadata": {},
   "source": [
    "The single most-reviewed book in this segment of our data is The Fate of the Earth, by Jonathan Schell, a manifesto about nuclear disarmament. But the rest of the top 10 does include some big works of fiction from the period: Doctorow's Ragtime, Styron's Sophie's Choice, and two by Saul Bellow."
   ]
  },
  {
   "cell_type": "markdown",
   "metadata": {},
   "source": [
    "Journals are also pretty lopsided. A few journals publish a huge number of reviews while others only publish a handful."
   ]
  },
  {
   "cell_type": "code",
   "execution_count": 9,
   "metadata": {},
   "outputs": [
    {
     "data": {
      "text/plain": [
       "Library Journal               81277\n",
       "Booklist                      63548\n",
       "Kirkus Reviews                56212\n",
       "Publishers Weekly             56014\n",
       "Times Literary Supplement     51025\n",
       "New York Times Book Review    31967\n",
       "Best Sellers                  20661\n",
       "Observer (London)             17538\n",
       "Book World                    16693\n",
       "School Library Journal        15886\n",
       "dtype: int64"
      ]
     },
     "execution_count": 9,
     "metadata": {},
     "output_type": "execute_result"
    }
   ],
   "source": [
    "journal_total.sort_values(ascending=False)[:10]"
   ]
  },
  {
   "cell_type": "code",
   "execution_count": 10,
   "metadata": {},
   "outputs": [
    {
     "data": {
      "text/plain": [
       "Archaeology                    339\n",
       "Money                          339\n",
       "Come-All-Ye                    326\n",
       "Cresset                        325\n",
       "National Civic Review          322\n",
       "Emergency Librarian            316\n",
       "Dance Magazine                 313\n",
       "Book Collector                 312\n",
       "Ecumenical Review              296\n",
       "Western American Literature    296\n",
       "dtype: int64"
      ]
     },
     "execution_count": 10,
     "metadata": {},
     "output_type": "execute_result"
    }
   ],
   "source": [
    "journal_total.sort_values(ascending=False)[250:260]"
   ]
  },
  {
   "cell_type": "code",
   "execution_count": 11,
   "metadata": {},
   "outputs": [
    {
     "data": {
      "text/plain": [
       "Lone Star Review                                        1\n",
       "Journal of Black Studies                                1\n",
       "World                                                   1\n",
       "Dun's Business Month                                    1\n",
       "Journal of Arts Management, Law, and Society            1\n",
       "International Journal of Aging and Human Development    1\n",
       "Sports Illustrated                                      1\n",
       "Performing Arts Review                                  1\n",
       "Essays on Canadian Writing`                             1\n",
       "Simulation                                              2\n",
       "dtype: int64"
      ]
     },
     "execution_count": 11,
     "metadata": {},
     "output_type": "execute_result"
    }
   ],
   "source": [
    "journal_total.sort_values(ascending=True)[:10]"
   ]
  },
  {
   "cell_type": "markdown",
   "metadata": {},
   "source": [
    "Here's something interesting. If you plot the histogram for total reviews of each journal, but use a log-scale on the X-axis, you get a nice bell curve. In other words, it seems like the typical journal in this dataset published between 100 and 1000 book reviews between 1965-1984. The median is 372. "
   ]
  },
  {
   "cell_type": "code",
   "execution_count": 12,
   "metadata": {},
   "outputs": [
    {
     "data": {
      "image/png": "[encoded data removed]",
      "text/plain": [
       "<Figure size 432x288 with 1 Axes>"
      ]
     },
     "metadata": {
      "needs_background": "light"
     },
     "output_type": "display_data"
    }
   ],
   "source": [
    "review_count_hist = sns.histplot(journal_total, log_scale=(True, False))\n",
    "plt.show()"
   ]
  },
  {
   "cell_type": "code",
   "execution_count": 13,
   "metadata": {},
   "outputs": [
    {
     "data": {
      "text/plain": [
       "372.0"
      ]
     },
     "execution_count": 13,
     "metadata": {},
     "output_type": "execute_result"
    }
   ],
   "source": [
    "journal_total.median()"
   ]
  },
  {
   "cell_type": "code",
   "execution_count": 14,
   "metadata": {},
   "outputs": [
    {
     "data": {
      "text/plain": [
       "count      485.000000\n",
       "mean      1996.047423\n",
       "std       6849.379854\n",
       "min          1.000000\n",
       "25%         81.000000\n",
       "50%        372.000000\n",
       "75%       1348.000000\n",
       "max      81277.000000\n",
       "dtype: float64"
      ]
     },
     "execution_count": 14,
     "metadata": {},
     "output_type": "execute_result"
    }
   ],
   "source": [
    "journal_total.describe()"
   ]
  },
  {
   "cell_type": "markdown",
   "metadata": {},
   "source": [
    "Now we'll switch gears a bit and look at the same numbers, except totaled over authors. Now, each row represents an individual author — all reviews they received in this period. Note that due to OCR errors there may be a few authors who were repeated and a small handful who are unnamed.\n",
    "\n",
    "We'll drop the missing authors, as well as count up the total books for each author, which will be useful later."
   ]
  },
  {
   "cell_type": "code",
   "execution_count": 15,
   "metadata": {},
   "outputs": [
    {
     "data": {
      "text/html": [
       "<div>\n",
       "<style scoped>\n",
       "    .dataframe tbody tr th:only-of-type {\n",
       "        vertical-align: middle;\n",
       "    }\n",
       "\n",
       "    .dataframe tbody tr th {\n",
       "        vertical-align: top;\n",
       "    }\n",
       "\n",
       "    .dataframe thead th {\n",
       "        text-align: right;\n",
       "    }\n",
       "</style>\n",
       "<table border=\"1\" class=\"dataframe\">\n",
       "  <thead>\n",
       "    <tr style=\"text-align: right;\">\n",
       "      <th></th>\n",
       "      <th>AB Bookman's Weekly</th>\n",
       "      <th>Publishers Weekly</th>\n",
       "      <th>Esquire</th>\n",
       "      <th>Booklist</th>\n",
       "      <th>Journal of Aesthetics and Art Criticism</th>\n",
       "      <th>International Philosophical Quarterly</th>\n",
       "      <th>Journal of Marketing</th>\n",
       "      <th>Harvard Law Review</th>\n",
       "      <th>Journal of Business Education</th>\n",
       "      <th>Journal of Home Economics</th>\n",
       "      <th>...</th>\n",
       "      <th>Black Warrior Review</th>\n",
       "      <th>Computers and the Humanities</th>\n",
       "      <th>American Arts</th>\n",
       "      <th>Essays on Canadian Writing`</th>\n",
       "      <th>Performing Arts Review</th>\n",
       "      <th>Journal of Arts Management, Law, and Society</th>\n",
       "      <th>Studio International, Review</th>\n",
       "      <th>Journal of Black Studies</th>\n",
       "      <th>Lone Star Review</th>\n",
       "      <th>Aspen Journal of the Arts</th>\n",
       "    </tr>\n",
       "    <tr>\n",
       "      <th>author_name</th>\n",
       "      <th></th>\n",
       "      <th></th>\n",
       "      <th></th>\n",
       "      <th></th>\n",
       "      <th></th>\n",
       "      <th></th>\n",
       "      <th></th>\n",
       "      <th></th>\n",
       "      <th></th>\n",
       "      <th></th>\n",
       "      <th></th>\n",
       "      <th></th>\n",
       "      <th></th>\n",
       "      <th></th>\n",
       "      <th></th>\n",
       "      <th></th>\n",
       "      <th></th>\n",
       "      <th></th>\n",
       "      <th></th>\n",
       "      <th></th>\n",
       "      <th></th>\n",
       "    </tr>\n",
       "  </thead>\n",
       "  <tbody>\n",
       "    <tr>\n",
       "      <th></th>\n",
       "      <td>0</td>\n",
       "      <td>0</td>\n",
       "      <td>0</td>\n",
       "      <td>1</td>\n",
       "      <td>0</td>\n",
       "      <td>0</td>\n",
       "      <td>0</td>\n",
       "      <td>0</td>\n",
       "      <td>0</td>\n",
       "      <td>0</td>\n",
       "      <td>...</td>\n",
       "      <td>0</td>\n",
       "      <td>0</td>\n",
       "      <td>0</td>\n",
       "      <td>0</td>\n",
       "      <td>0</td>\n",
       "      <td>0</td>\n",
       "      <td>0</td>\n",
       "      <td>0</td>\n",
       "      <td>0</td>\n",
       "      <td>0</td>\n",
       "    </tr>\n",
       "    <tr>\n",
       "      <th>AABERG, Jean</th>\n",
       "      <td>2</td>\n",
       "      <td>1</td>\n",
       "      <td>0</td>\n",
       "      <td>0</td>\n",
       "      <td>0</td>\n",
       "      <td>0</td>\n",
       "      <td>0</td>\n",
       "      <td>0</td>\n",
       "      <td>0</td>\n",
       "      <td>0</td>\n",
       "      <td>...</td>\n",
       "      <td>0</td>\n",
       "      <td>0</td>\n",
       "      <td>0</td>\n",
       "      <td>0</td>\n",
       "      <td>0</td>\n",
       "      <td>0</td>\n",
       "      <td>0</td>\n",
       "      <td>0</td>\n",
       "      <td>0</td>\n",
       "      <td>0</td>\n",
       "    </tr>\n",
       "    <tr>\n",
       "      <th>AADLAND, Florence</th>\n",
       "      <td>0</td>\n",
       "      <td>0</td>\n",
       "      <td>1</td>\n",
       "      <td>0</td>\n",
       "      <td>0</td>\n",
       "      <td>0</td>\n",
       "      <td>0</td>\n",
       "      <td>0</td>\n",
       "      <td>0</td>\n",
       "      <td>0</td>\n",
       "      <td>...</td>\n",
       "      <td>0</td>\n",
       "      <td>0</td>\n",
       "      <td>0</td>\n",
       "      <td>0</td>\n",
       "      <td>0</td>\n",
       "      <td>0</td>\n",
       "      <td>0</td>\n",
       "      <td>0</td>\n",
       "      <td>0</td>\n",
       "      <td>0</td>\n",
       "    </tr>\n",
       "    <tr>\n",
       "      <th>AAFJES, Bertus</th>\n",
       "      <td>0</td>\n",
       "      <td>0</td>\n",
       "      <td>0</td>\n",
       "      <td>1</td>\n",
       "      <td>0</td>\n",
       "      <td>0</td>\n",
       "      <td>0</td>\n",
       "      <td>0</td>\n",
       "      <td>0</td>\n",
       "      <td>0</td>\n",
       "      <td>...</td>\n",
       "      <td>0</td>\n",
       "      <td>0</td>\n",
       "      <td>0</td>\n",
       "      <td>0</td>\n",
       "      <td>0</td>\n",
       "      <td>0</td>\n",
       "      <td>0</td>\n",
       "      <td>0</td>\n",
       "      <td>0</td>\n",
       "      <td>0</td>\n",
       "    </tr>\n",
       "    <tr>\n",
       "      <th>AAGAARD, Orlena</th>\n",
       "      <td>0</td>\n",
       "      <td>0</td>\n",
       "      <td>0</td>\n",
       "      <td>1</td>\n",
       "      <td>0</td>\n",
       "      <td>0</td>\n",
       "      <td>0</td>\n",
       "      <td>0</td>\n",
       "      <td>0</td>\n",
       "      <td>0</td>\n",
       "      <td>...</td>\n",
       "      <td>0</td>\n",
       "      <td>0</td>\n",
       "      <td>0</td>\n",
       "      <td>0</td>\n",
       "      <td>0</td>\n",
       "      <td>0</td>\n",
       "      <td>0</td>\n",
       "      <td>0</td>\n",
       "      <td>0</td>\n",
       "      <td>0</td>\n",
       "    </tr>\n",
       "  </tbody>\n",
       "</table>\n",
       "<p>5 rows × 485 columns</p>\n",
       "</div>"
      ],
      "text/plain": [
       "                   AB Bookman's Weekly  Publishers Weekly  Esquire  Booklist  \\\n",
       "author_name                                                                    \n",
       "                                     0                  0        0         1   \n",
       "AABERG, Jean                         2                  1        0         0   \n",
       "AADLAND, Florence                    0                  0        1         0   \n",
       "AAFJES, Bertus                       0                  0        0         1   \n",
       "AAGAARD, Orlena                      0                  0        0         1   \n",
       "\n",
       "                   Journal of Aesthetics and Art Criticism  \\\n",
       "author_name                                                  \n",
       "                                                         0   \n",
       "AABERG, Jean                                             0   \n",
       "AADLAND, Florence                                        0   \n",
       "AAFJES, Bertus                                           0   \n",
       "AAGAARD, Orlena                                          0   \n",
       "\n",
       "                   International Philosophical Quarterly  \\\n",
       "author_name                                                \n",
       "                                                       0   \n",
       "AABERG, Jean                                           0   \n",
       "AADLAND, Florence                                      0   \n",
       "AAFJES, Bertus                                         0   \n",
       "AAGAARD, Orlena                                        0   \n",
       "\n",
       "                   Journal of Marketing  Harvard Law Review  \\\n",
       "author_name                                                   \n",
       "                                      0                   0   \n",
       "AABERG, Jean                          0                   0   \n",
       "AADLAND, Florence                     0                   0   \n",
       "AAFJES, Bertus                        0                   0   \n",
       "AAGAARD, Orlena                       0                   0   \n",
       "\n",
       "                   Journal of Business Education  Journal of Home Economics  \\\n",
       "author_name                                                                   \n",
       "                                               0                          0   \n",
       "AABERG, Jean                                   0                          0   \n",
       "AADLAND, Florence                              0                          0   \n",
       "AAFJES, Bertus                                 0                          0   \n",
       "AAGAARD, Orlena                                0                          0   \n",
       "\n",
       "                   ...  Black Warrior Review  Computers and the Humanities  \\\n",
       "author_name        ...                                                       \n",
       "                   ...                     0                             0   \n",
       "AABERG, Jean       ...                     0                             0   \n",
       "AADLAND, Florence  ...                     0                             0   \n",
       "AAFJES, Bertus     ...                     0                             0   \n",
       "AAGAARD, Orlena    ...                     0                             0   \n",
       "\n",
       "                   American Arts  Essays on Canadian Writing`  \\\n",
       "author_name                                                     \n",
       "                               0                            0   \n",
       "AABERG, Jean                   0                            0   \n",
       "AADLAND, Florence              0                            0   \n",
       "AAFJES, Bertus                 0                            0   \n",
       "AAGAARD, Orlena                0                            0   \n",
       "\n",
       "                   Performing Arts Review  \\\n",
       "author_name                                 \n",
       "                                        0   \n",
       "AABERG, Jean                            0   \n",
       "AADLAND, Florence                       0   \n",
       "AAFJES, Bertus                          0   \n",
       "AAGAARD, Orlena                         0   \n",
       "\n",
       "                   Journal of Arts Management, Law, and Society  \\\n",
       "author_name                                                       \n",
       "                                                              0   \n",
       "AABERG, Jean                                                  0   \n",
       "AADLAND, Florence                                             0   \n",
       "AAFJES, Bertus                                                0   \n",
       "AAGAARD, Orlena                                               0   \n",
       "\n",
       "                   Studio International, Review  Journal of Black Studies  \\\n",
       "author_name                                                                 \n",
       "                                              0                         0   \n",
       "AABERG, Jean                                  0                         0   \n",
       "AADLAND, Florence                             0                         0   \n",
       "AAFJES, Bertus                                0                         0   \n",
       "AAGAARD, Orlena                               0                         0   \n",
       "\n",
       "                   Lone Star Review  Aspen Journal of the Arts  \n",
       "author_name                                                     \n",
       "                                  0                          0  \n",
       "AABERG, Jean                      0                          0  \n",
       "AADLAND, Florence                 0                          0  \n",
       "AAFJES, Bertus                    0                          0  \n",
       "AAGAARD, Orlena                   0                          0  \n",
       "\n",
       "[5 rows x 485 columns]"
      ]
     },
     "execution_count": 15,
     "metadata": {},
     "output_type": "execute_result"
    }
   ],
   "source": [
    "df['author_name'] = df.index.to_series().str.split('\\\\|\\\\|').str[1].str.strip()\n",
    "author_total_books = df['author_name'].value_counts()\n",
    "df = df.groupby('author_name').sum()\n",
    "df = df[df.index.notnull()]\n",
    "df = df.drop('#NAME?')\n",
    "df.head()"
   ]
  },
  {
   "cell_type": "code",
   "execution_count": 16,
   "metadata": {},
   "outputs": [],
   "source": [
    "author_total = df.sum(axis=1)"
   ]
  },
  {
   "cell_type": "markdown",
   "metadata": {},
   "source": [
    "As we can see, the story about the distribution of reviews looks similar, even when we are considering authors as our basic unit. "
   ]
  },
  {
   "cell_type": "code",
   "execution_count": 17,
   "metadata": {},
   "outputs": [
    {
     "name": "stdout",
     "output_type": "stream",
     "text": [
      "Out of 167445 authors, 67791 received only a single review.\n"
     ]
    }
   ],
   "source": [
    "only_one_review = len(author_total[author_total==1])\n",
    "print(f'Out of {len(df)} authors, {only_one_review} received only a single review.')"
   ]
  },
  {
   "cell_type": "code",
   "execution_count": 18,
   "metadata": {},
   "outputs": [
    {
     "data": {
      "text/plain": [
       "count    167445.000000\n",
       "mean          5.781480\n",
       "std          14.820817\n",
       "min           1.000000\n",
       "25%           1.000000\n",
       "50%           2.000000\n",
       "75%           5.000000\n",
       "max        1227.000000\n",
       "dtype: float64"
      ]
     },
     "execution_count": 18,
     "metadata": {},
     "output_type": "execute_result"
    }
   ],
   "source": [
    "author_total.describe()"
   ]
  },
  {
   "cell_type": "code",
   "execution_count": 19,
   "metadata": {},
   "outputs": [
    {
     "data": {
      "text/plain": [
       "2.0"
      ]
     },
     "execution_count": 19,
     "metadata": {},
     "output_type": "execute_result"
    }
   ],
   "source": [
    "author_total.median()"
   ]
  },
  {
   "cell_type": "markdown",
   "metadata": {},
   "source": [
    "The biggest difference is that it's even harder to get a neat histogram of review counts, since there are a few outlying authors who were just reviewed way more frequently than anybody else. This is both because they were widely reviewed and because they were just much more prolific (thus having more opportunities for review), as we will see in a moment."
   ]
  },
  {
   "cell_type": "code",
   "execution_count": 20,
   "metadata": {},
   "outputs": [
    {
     "data": {
      "image/png": "[encoded data removed]",
      "text/plain": [
       "<Figure size 432x288 with 1 Axes>"
      ]
     },
     "metadata": {
      "needs_background": "light"
     },
     "output_type": "display_data"
    }
   ],
   "source": [
    "review_count_hist = sns.histplot(author_total, log_scale=(False, True), bins=100)\n",
    "plt.show()"
   ]
  },
  {
   "cell_type": "markdown",
   "metadata": {},
   "source": [
    "Here are the 20 most frequently reviewed authors in the data for 1965-1984."
   ]
  },
  {
   "cell_type": "code",
   "execution_count": 23,
   "metadata": {},
   "outputs": [
    {
     "data": {
      "text/plain": [
       "author_name\n",
       "ASIMOV, Isaac                   1227\n",
       "SIMENON, Georges                 566\n",
       "SINGER, Isaac Bashevis           552\n",
       "SILVERBERG, Robert               542\n",
       "UPDIKE, John                     518\n",
       "OATES, Joyce Carol               477\n",
       "SOLZHENITSYN, Aleksandr          466\n",
       "CREASEY, John                    465\n",
       "DE PAOLA, Tomie                  426\n",
       "MAILER, Norman                   420\n",
       "NABOKOV, Vladimir                420\n",
       "THEROUX, Paul                    417\n",
       "WILSON, John Anthony Burgess     411\n",
       "MURDOCH, Iris                    391\n",
       "ROCKWELL, Anne                   389\n",
       "VIDAL, Gore                      386\n",
       "YOLEN, Jane                      376\n",
       "SIMON, Seymour                   374\n",
       "AIKEN, Joan                      370\n",
       "LESSING, Doris                   359\n",
       "dtype: int64"
      ]
     },
     "execution_count": 23,
     "metadata": {},
     "output_type": "execute_result"
    }
   ],
   "source": [
    "author_total.sort_values(ascending=False)[:20]"
   ]
  },
  {
   "cell_type": "markdown",
   "metadata": {},
   "source": [
    "Isaac Asimov is a universe apart from everybody else - he has more than *twice* as many reviews as the next closest author! This is, to me at least, a surprising result that doesn't fit neatly into received wisdom about literary importance or influence in this period.\n",
    "\n",
    "That being said, Asimov's importance in this data is due in part to two things: for one, he was very prolific. He simply has more books in the data than anybody else. You can see this below, which is a list of the authors with the most titles in the data."
   ]
  },
  {
   "cell_type": "code",
   "execution_count": 24,
   "metadata": {},
   "outputs": [
    {
     "data": {
      "text/plain": [
       "ASIMOV, Isaac               250\n",
       "CREASEY, John               163\n",
       "SILVERBERG, Robert          147\n",
       "SHAKESPEARE, William        131\n",
       "SIMENON, Georges            119\n",
       "CARPENTER, Allan             99\n",
       "SCHULZ, Charles M            93\n",
       "ANDERSEN, Hans Christian     88\n",
       "CONGRESSIONAL Quarterly      87\n",
       "COHEN, Daniel                86\n",
       "SIMON, Seymour               83\n",
       "MOORE, Patrick               82\n",
       "KRAMER, Jack                 81\n",
       "MAY, Julian                  78\n",
       "QUEEN, Ellery                72\n",
       "WODEHOUSE, P G               72\n",
       "WAHL, Jan                    72\n",
       "DICKENS, Charles             72\n",
       "SULLIVAN, George             71\n",
       "TIME-UFE Books               71\n",
       "Name: author_name, dtype: int64"
      ]
     },
     "execution_count": 24,
     "metadata": {},
     "output_type": "execute_result"
    }
   ],
   "source": [
    "author_total_books.sort_values(ascending=False)[:20]"
   ]
  },
  {
   "cell_type": "markdown",
   "metadata": {},
   "source": [
    "Some things to note, here. Notice the preponderance of authors who did not even live during the time period covered by the data: Shakespeare, Dickens, Hans Christian Andersen. These authors continued to be reprinted throughout the twentieth century, and editions of their books continued to be reviewed. \n",
    "\n",
    "Notice as well that some of these authors are not individual people. \"TIME-UFE Books\" is an OCR error for \"Time Life Books,\" a book series by Time."
   ]
  },
  {
   "cell_type": "markdown",
   "metadata": {},
   "source": [
    "But back to Asimov, for a moment. Another reason he takes the top spot in our data is because of how many different kinds of magazines considered him interesting. Here is a list of every journal for which he is #1."
   ]
  },
  {
   "cell_type": "code",
   "execution_count": 25,
   "metadata": {},
   "outputs": [
    {
     "name": "stdout",
     "output_type": "stream",
     "text": [
      "Publishers Weekly 107\n",
      "Booklist 142\n",
      "Library Journal 131\n",
      "Kirkus Reviews 131\n",
      "Catholic Library World 19\n",
      "Book World 37\n",
      "Voice of Youth Advocates 29\n",
      "Science Books and Films 58\n",
      "Los Angeles Times Book Review 9\n",
      "Nature 7\n",
      "Science Fiction and Fantasy Book Review 18\n",
      "Science Fiction Review 15\n"
     ]
    }
   ],
   "source": [
    "for col in df.columns:\n",
    "    if df[col].idxmax() == 'ASIMOV, Isaac':\n",
    "        print(col, df[col].max())"
   ]
  },
  {
   "cell_type": "markdown",
   "metadata": {},
   "source": [
    "In other words, Asimov's work \"casts a wide net,\" so to speak. He gets coverage in mainstream journals, the industry press, children's magazines, science fiction journals, and even academic journals.\n",
    "\n",
    "Who else has this quality, of being reviewed in many *different* journals? Let's sort authors by the number of distinct journals they appear in and see who bubbles up."
   ]
  },
  {
   "cell_type": "code",
   "execution_count": 27,
   "metadata": {},
   "outputs": [
    {
     "data": {
      "text/plain": [
       "author_name\n",
       "ASIMOV, Isaac                   89\n",
       "SINGER, Isaac Bashevis          81\n",
       "WILSON, John Anthony Burgess    79\n",
       "COLES, Robert                   78\n",
       "BETTELHEIM, Bruno               77\n",
       "SCHLESINGER, Arthur M, Jr.      76\n",
       "NISBET, Robert                  73\n",
       "CLARK, Ronald W                 72\n",
       "UPDIKE, John                    71\n",
       "MURDOCH, Iris                   71\n",
       "BELLOW, Saul                    71\n",
       "MAILER, Norman                  69\n",
       "NABOKOV, Vladimir               69\n",
       "OATES, Joyce Carol              68\n",
       "VIDAL, Gore                     68\n",
       "SOLZHENITSYN, Aleksandr         68\n",
       "BARZUN, Jacques                 67\n",
       "ROTH, Philip                    67\n",
       "DRABBLE, Margaret               67\n",
       "UFTON, Robert Jay               66\n",
       "dtype: int64"
      ]
     },
     "execution_count": 27,
     "metadata": {},
     "output_type": "execute_result"
    }
   ],
   "source": [
    "# we can treat each count as 1 just by casting the whole dataframe to bool\n",
    "df.astype(bool).sum(axis=1).sort_values(ascending=False)[:20]"
   ]
  },
  {
   "cell_type": "markdown",
   "metadata": {},
   "source": [
    "Note the appearance on this list of many of the same authors from our earlier list of total counts of reviews. In this data, at least, the best way to up one's review count seems to be getting reviewed in many outlets. This is intuitive, given that most journals will only publish a single review of a given title. "
   ]
  },
  {
   "cell_type": "markdown",
   "metadata": {},
   "source": [
    "These authors are all similar to each other in a single way: they are reviewed by many different magazines. A natural next question is to consider how their review profiles differ and overlap. We might imagine, for example, that psychiatrist Robert Jay Lifton (\"UFTON\" is another OCR error) is not being reviewed in exactly the same journals as novelist Iris Murdoch. They are both widely reviewed, but by different segments of the industry.\n",
    "\n",
    "We could of course consider this on an ad hoc basis, by viewing the top authors in a specific journals. Here are the top authors for the New Yorker. "
   ]
  },
  {
   "cell_type": "code",
   "execution_count": 30,
   "metadata": {},
   "outputs": [
    {
     "data": {
      "text/plain": [
       "author_name\n",
       "SIMENON, Georges          37\n",
       "SINGER, Isaac Bashevis    13\n",
       "LEAR, Edward              13\n",
       "WOOLF, Virginia           10\n",
       "BARING, Maurice           10\n",
       "RICHARDSON, Joanna         9\n",
       "DE VRIES, Peter            9\n",
       "ROWSE, A L                 9\n",
       "SYMONS, Julian             9\n",
       "STEVENSON, James           8\n",
       "Name: New Yorker, dtype: int64"
      ]
     },
     "execution_count": 30,
     "metadata": {},
     "output_type": "execute_result"
    }
   ],
   "source": [
    "df['New Yorker'].sort_values(ascending=False)[:10]"
   ]
  },
  {
   "cell_type": "markdown",
   "metadata": {},
   "source": [
    "This is quite different from the top authors for a religious magazine like Christian Century. Here, the top author is  Thomas Merton, a Trappist monk, theologian, and activist. "
   ]
  },
  {
   "cell_type": "code",
   "execution_count": 32,
   "metadata": {},
   "outputs": [
    {
     "data": {
      "text/plain": [
       "author_name\n",
       "MERTON, Thomas         20\n",
       "BERRIGAN, Daniel       19\n",
       "MARTY, Martin E        18\n",
       "BUECHNER, Frederick    17\n",
       "KENNEDY, Eugene        17\n",
       "RAHNER, Kari           16\n",
       "MOLTMANN, Jurgen       16\n",
       "ELLUL, Jacques         15\n",
       "ALTIZER, Thomas J J    15\n",
       "NOVAK, Michael         14\n",
       "Name: Christian Century, dtype: int64"
      ]
     },
     "execution_count": 32,
     "metadata": {},
     "output_type": "execute_result"
    }
   ],
   "source": [
    "df['Christian Century'].sort_values(ascending=False)[:10]"
   ]
  },
  {
   "cell_type": "markdown",
   "metadata": {},
   "source": [
    "It further different when we consider an outlet for reviews of children's literature, such as the Children's Book Review Service."
   ]
  },
  {
   "cell_type": "code",
   "execution_count": 33,
   "metadata": {},
   "outputs": [
    {
     "data": {
      "text/plain": [
       "author_name\n",
       "DE PAOLA, Tomie            22\n",
       "SHARMAT, Marjorie W        22\n",
       "BUNTING, Eve               15\n",
       "DELTON, Judy               14\n",
       "ADLER, C S                 13\n",
       "PINKWATER, Daniel Manus    13\n",
       "COHEN, Barbara             12\n",
       "ROCKWELL, Anne             12\n",
       "YOLEN, Jane                12\n",
       "ASCH, Frank                12\n",
       "Name: Children's Book Review Service, dtype: int64"
      ]
     },
     "execution_count": 33,
     "metadata": {},
     "output_type": "execute_result"
    }
   ],
   "source": [
    "df[\"Children's Book Review Service\"].sort_values(ascending=False)[:10]"
   ]
  },
  {
   "cell_type": "markdown",
   "metadata": {},
   "source": [
    "... and so on. There are over 450 journals in this dataset, so we could continue to do this all day. We would probably continue to find interesting tidbits of information about the reception history of American letters. But it would be better (obviously) if we had some way of considering the dataset as a whole.\n",
    "\n",
    "We consider some ways to do that in the next notebook."
   ]
  }
 ],
 "metadata": {
  "interpreter": {
   "hash": "1db9c0cf1b6263b629717abeeeeab122170cf719ce341bc0e2e624706511d5f7"
  },
  "kernelspec": {
   "display_name": "Python 3.9.5 64-bit ('.venv': venv)",
   "name": "python3"
  },
  "language_info": {
   "codemirror_mode": {
    "name": "ipython",
    "version": 3
   },
   "file_extension": ".py",
   "mimetype": "text/x-python",
   "name": "python",
   "nbconvert_exporter": "python",
   "pygments_lexer": "ipython3",
   "version": "3.9.5"
  }
 },
 "nbformat": 4,
 "nbformat_minor": 4
}
